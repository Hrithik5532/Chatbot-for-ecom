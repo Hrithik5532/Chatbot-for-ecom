{
 "cells": [
  {
   "cell_type": "code",
   "execution_count": 32,
   "metadata": {},
   "outputs": [
    {
     "data": {
      "text/plain": [
       "[Document(page_content='1 COMPONENTS  OF FOOD\\n1\\nIn lower classes, we made lists of the\\nfood items that we eat. We also\\nidentified food items eaten in\\ndifferent parts of India and marked\\nthese on its map.\\nA meal could consist of  chapati, dal\\nand brinjal curry. Another may be rice,sambar and a vegetable preparation of\\nlady’s finger  (bhindi). Yet another meal\\ncould be appam , fish curry and\\nvegetables.curd, butter milk and pickles. Some\\nexamples of meals from different regions\\nare given in Table 1.1. Select food itemsand enter these in Table 1.1.\\nSometimes, we may not really have\\nall this variety in our meals. If we aretravelling, we may eat whatever is\\navailable on the way. It may not be\\npossible for some of us, to eat such avariety of items, most of the time.\\nThere must be some reason though,\\nwhy meals usually consist of such adistribution. Do you think that our body\\nneeds different kinds of food for some\\nspecial purpose?\\n1.1 W HAT DO DIFFERENT  FOOD\\nITEMS CONTAIN ?\\nWe know that each dish is usually madeup of one or more ingredients, which\\nwe get from plants or animals. Theseingredients contain some components\\nthat are needed by our body. TheseComponents of Food\\nTable 1.1 Some common meals of different regions/states\\n/ n o i g e R\\ne t a t Sn i a r g f o m e t If o m e t I\\ndl a t a e m /s e l b a t e g e V r e h t Os\\nb a j n u P i k k a M ) n r o c ( i t o ra m j a R\\n) s n a e b y e n d i K (g a a s n o s r a S\\n) y r r u c f a e l d r a t s u M (, d r u C e e h g\\na r h d n A\\nh s e d a r Pe c i Rl a d r a u Td n a\\nm a s a r ( u r a h c)u r u d n u K( i a k a d n o d), k l i m r e t t u B e e h g,\\n( e l k c i p i a k a v a a)Activity 1\\nOur meals usually have at least one item\\nmade of some kind of grain. Other items\\ncould be a dal or a dish of meat andvegetables. It may also include items like\\nRationalised 2023-24\\n', metadata={'source': 'Chapter 1.pmd.pdf', 'page': 0}),\n",
       " Document(page_content='2 SCIENCE\\nFig. 1.1  Testing for starchcomponents are called nutrients . The\\nmajor nutrients in our food are named\\ncarbohydrates, proteins, fats, vitamins\\nand minerals. In addition, food contains\\ndietary fibres and water which are also\\nneeded by our body.\\nDo all foods contain all these\\nnutrients? With some simple methodswe can test whether cooked food or a\\nraw ingredient contains one or more of\\nthese nutrients. The tests for presenceof carbohydrates, proteins and fats\\nare simpler to do as compared to the\\ntests for other nutrients. Let us do these\\ntests and record all our observations\\nin Table 1.2.\\nFor carrying out these tests, you will\\nneed solutions of iodine, coppersulphate and caustic soda. You will also\\nneed a few test tubes and a dropper.\\nTry these tests on cooked food items\\nas well as raw materials. Table 1.2 shows\\nyou a way to record the observationsfrom these tests. Some food items are\\ngiven in this table. You can conduct the\\ntests either with these or any other\\navailable food items. Do these tests\\ncarefully and do not try to eat or taste\\nany chemicals.\\nIf the required solutions are not\\navailable in readymade form, yourteacher can prepare them as given in\\nthe box.\\nLet us begin by testing different\\nfood items to see if they containcarbohydrates . There are many\\ntypes of carbohydrates. The main\\ncarbohydrates found in our food are in\\nthe form of starch and sugars. We can\\neasily test if a food item contains starch.Activity 2\\nTest for Starch\\nTake a small quantity of a food item or\\na raw ingredient. Put 2-3 drops of diluteiodine solution on it (Fig. 1.1). Observe\\nif there is any change in the colour of\\nthe food item. Did it turn blue-black?A blue-black colour indicates that it\\ncontains starch.e b n a c e n i d o i f o n o i t u l o s e t u l i d A\\nf o s p o r d w e f a g n i d d a y b d e r a p e r p\\nd e l l i f f l a h e b u t t s e t a o t e n i d o i e r u t c n i t\\n. r e t a w h t i w\\ne b n a c n o i t u l o s e t a h p l u s r e p p o C\\nf o ) g ( m a r g 2 g n i v l o s s i d y b d e r a p e r p\\n) L m ( e r t i l i l l i m 0 0 1 n i e t a h p l u s r e p p o c\\n. r e t a w f o\\nn i d e v l o s s i d a d o s c i t s u a c f o g 0 1\\nd e r i u q e r e h t s e k a m r e t a w f o L m 0 0 1\\n. a d o s c i t s u a c f o n o i t u l o s\\nRationalised 2023-24\\n', metadata={'source': 'Chapter 1.pmd.pdf', 'page': 1}),\n",
       " Document(page_content='3 COMPONENTS  OF FOOD\\nRepeat this test with other food items\\nto find out which of these contain starch.\\nEnter all your observations in Table 1.2.\\nTest for Protein\\nTake a small quantity of a food item fortesting. If the food you want to test is a\\nsolid, you first need to make a paste of\\nFig. 1.2 Testing for proteinTable  1.2 Nutrients present in some\\nfood items\\nm e t i d o o Fh c r a t S\\n) t n e s e r p (n i e t o r P\\n) t n e s e r p (t a F\\n) t n e s e r p (\\no t a t o p w a R s e Y\\nk l i M s e Y\\nt u n d n u o r G s e Y\\nd e k o o c n U\\nd e r e d w o p\\ne c i r\\ne c i r d e k o o C\\nt u n o c o c y r D\\nd e k o o c n U\\nr a u t l a d\\n) d e r e d w o p (\\nd e k o o C l a d\\ny n a f o e c i l s A\\ne l b a t e g e v\\ny n a f o e c i l s A\\nt i u r f\\ng g e d e l i o B\\ne t i h w (\\n) n o i t r o pit or powder it. Grind or mash asmall quantity of the food item.\\nPut some of this in a clean testtube, add 10 drops of water to it\\nand shake the test tube.\\nNow, using a dropper, add\\ntwo drops of solution of coppersulphate and ten drops of\\nsolution of caustic soda to thetest tube (Fig. 1.2). Shake welland let the test tube stand for a fewminutes. What do you see? Did thecontents of the test tube turn violet? A\\nviolet colour indicates presence of\\nproteins in the food item.\\nNow, you can repeat this test on other\\nfood items.\\nRationalised 2023-24\\n', metadata={'source': 'Chapter 1.pmd.pdf', 'page': 2}),\n",
       " Document(page_content='4 SCIENCE\\nand carbohydrates are also called\\n‘energy giving foods’ (Fig. 1.3 andFig. 1.4).\\nProteins are needed for the growth\\nand repair of our body. Foods proteinsTest for Fats\\nTake a small quantity of a food item.Wrap it in a piece of paper and crush it.\\nTake care that the paper does not tear.\\nNow, straighten the paper and observeit carefully. Does it have an oily patch?\\nHold the paper against light. Are you\\nable to see the light faintly, throughthis patch?\\nAn oily patch on paper shows that\\nthe food item contains fat. The food\\nitems may sometimes contain a little\\nwater. Therefore, after you have rubbedan item on paper, let the paper dry for awhile. If there were any water that mayhave come from food, it would dry upafter some time. If no oily patch shows\\nup after this, the food item does not\\ncontain any fat.\\nWhat do these tests show? Are fats,\\nproteins and starch present in all thefood items that you tested? Does a food\\nitem contain more than one nutrient?\\nDo you find any food item that does notcontain any of these nutrients?\\nWe tested food items for three\\nnutrients — carbohydrates, proteinsand fats. There are also other nutrients\\nlike vitamins and minerals  that are\\npresent in different food items. Why do\\nwe need all these nutrients?\\n1.2 W HAT DO VARIOUS  NUTRIENTS  DO\\nFOR OUR BODY?\\nCarbohydrates mainly provide energyto our body. Fats also give us energy.\\nIn fact, fats give much more energy\\nas compared to the same amount ofcarbohydrates. Foods containing fatsFig. 1.3  Some sources of carbohydrates\\nFig. 1.4 Some sources of fats: (a) plant sources\\nand (b) animal sources(a)\\n(b)Sugarcane Sweet potato\\nWheat\\nRice\\nBajraMelon\\nMangoPotato\\nMaizePapaya\\nGroundnutsNuts\\nTil\\nMeat\\nFishEggs\\nRationalised 2023-24\\n', metadata={'source': 'Chapter 1.pmd.pdf', 'page': 3}),\n",
       " Document(page_content='5 COMPONENTS  OF FOOD\\nare often called ‘body building foods’\\n(Fig 1.5).\\nVitamins help in protecting our body\\nagainst diseases. Vitamins also help inkeeping our eyes, bones, teeth and gums\\nhealthy.\\nVitamins are of different kinds\\nknown by different names. Some of these\\nare Vitamin A, Vitamin C, Vitamin D,Vitamin E and K. There is also a group\\nof vitamins called Vitamin B-complex.\\nOur body needs all types of vitamins insmall quantities. Vitamin A keeps ourskin and eyes healthy. Vitamin C helpsbody to fight against many diseases.\\nVitamin D helps our body to use\\ncalcium for bones and teeth. Foods thatare rich in different vitamins are shown\\nin Fig. 1.6 to Fig. 1.9.\\nMinerals are needed by our body in\\nsmall amounts. Each one is essential\\nFig. 1.5 Some sources of proteins: (a) plant\\nsources and (b) animal sourcesMeat\\nEggsFishPeasGram Moong Tuar dal\\nBeans\\nSoyabeans\\n(a)\\n(b)PaneerFig. 1.6  Some sources of Vitamin A\\nLiver\\nGuava\\nLemon\\nAmlaFig. 1.7  Some sources of Vitamin B\\nFig. 1.8  Some sources of Vitamin C\\nFig. 1.9 Some sources of Vitamin DTomatoOrangePapaya\\nCarrot\\nMango\\nWheatRice\\nGreen\\nChilli\\nFish\\nEggLiver\\nRationalised 2023-24\\n', metadata={'source': 'Chapter 1.pmd.pdf', 'page': 4}),\n",
       " Document(page_content='6 SCIENCE\\nfor proper growth of body and to\\nmaintain good health. Some sources of\\ndifferent minerals are shown in Fig. 1.10.\\nMost food items, usually, have more\\nthan one nutrient. You may have noticedthis, while recording your observationsin Table 1.2. However, in a given raw\\nmaterial, one particular nutrient may\\nbe present in much larger quantity thanin others. For example, rice has more\\ncarbohydrates than other nutrients.\\nThus, we say that rice is a “carbohydraterich” source of food.\\nBesides these nutrients, our body\\nneeds dietary fibres  and water. Dietary\\nfibres are also known as roughage.\\nRoughage is mainly provided by plant\\nproducts in our foods. Whole grains andpulses, potatoes, fresh fruits and\\nvegetables are main sources of roughage.\\nRoughage does not provide any nutrientto our body, but is an essential\\ncomponent of our food and adds to its\\nbulk. This helps our body get rid of\\nundigested food.Our body also\\nprepares Vitamin D in the\\npresence of sunlight. Nowadays,\\ninsufficient exposure to sunlight is\\ncausing Vitamin D deficiency in\\nmany people.\\nFig. 1.10  Sources of some mineralsSome sources\\nof calciumSome sources\\nof ironSome sources of\\nphosphorousSome sources ofiodine\\nGinger\\nRationalised 2023-24\\n', metadata={'source': 'Chapter 1.pmd.pdf', 'page': 5}),\n",
       " Document(page_content='7 COMPONENTS  OF FOOD\\nthink that, what we need for a balanced\\ndiet would depend on the amount ofphysical work that we do?\\nPrepare a chart of whatever you eat\\nover a period of a week. Check whetherall the nutrients mentioned are present\\nin one or the other food items being\\neaten within a day or so.\\nPulses, groundnut, soyabean,\\nsprouted seeds ( moong  and Bengal\\ngram), fermented foods (South Indianfoods such as idlis), a combination of\\nflours ( missi roti , thepla  made from\\ncereals and pulses), banana, spinach,sattu , jaggery, available vegetables and\\nother such foods provide manynutrients. Therefore, one can eat abalanced diet without expensive food\\nmaterials.\\nEating the right kind of food is not\\nenough. It should also be cookedWater helps our body to absorb\\nnutrients from food. It also helps in\\nthrowing out some wastes from body as\\nurine and sweat. Normally, we get most\\nof the water that our body needs fromthe liquids we drink — such as water,\\nmilk and tea. In addition, we add water\\nto most cooked foods. Let’s see if thereis any other source which provides water\\nto our body.\\nActivity 3\\nTake a tomato or a fruit like lemon. Cut\\nit into small pieces. Do your hands getwet while doing so?\\nCarefully observe whenever\\nvegetables and fruits are being cut,peeled, grated or mashed at your\\nhome. Do you find any fresh vegetables\\nor fruits that do not contain someamount of water?\\nWe see that many food materials\\nthemselves contain water. To some\\nextent, our body needs are met by thiswater. Apart from this, we also add waterwhile cooking many food items.\\n1.3 B ALANCED  DIET\\nThe food we normally eat in a day is our\\ndiet. For growth and maintenance ofgood health, our diet should have all\\nthe nutrients that our body needs, in\\nright quantities. Not too much of oneand not too little of the other.  The diet\\nshould also contain a good amount of\\nroughage and water. Such a diet is calleda balanced diet .\\nDo you think that people of all ages\\nneed the same type of diet? Do you alsoPaheli wonders whether animal\\nfood also consists of thesedifferent components and dothey also need a balanced diet?\\nproperly so that its nutrients are not\\nlost. Are you aware that some nutrientsget lost in the process of cooking and\\npreparations?\\nIf the vegetables and fruits are\\nwashed after cutting or peeling them, it\\nRationalised 2023-24\\n', metadata={'source': 'Chapter 1.pmd.pdf', 'page': 6}),\n",
       " Document(page_content='8 SCIENCE\\nmay result in the loss of some vitamins.\\nThe skins of many vegetables and fruitscontain vitamins and minerals.\\nSimilarly, repeated washing of rice and\\npulses may remove some vitamins andminerals present in them.\\nWe all know that cooking improves\\nthe taste of food and makes it easier todigest. At the same time, cooking also\\nresults in the loss of certain nutrients.\\nMany useful proteins and considerableamounts of minerals are lost if excess\\nwater is used during cooking and is\\nthen thrown away.\\nVitamin C gets easily destroyed by\\nheat during cooking. Would it not besensible to include some fruits and rawvegetables in our diet?\\nBoojho thought that fats would be\\nthe best foods to eat, all the time. A katori\\n(bowl) of fat will give much more energy\\nthan a katori of carbohydrate rich food,\\nisn’t it? So, he ate nothing but food richin fats — fried food like samosa  and poori\\n(snacks), malai,  rabdi  and peda (sweets).\\nDo you think he was right? No, of\\ncourse not! It can be very harmful for\\nus to eat too much of fat rich foods andwe may end up suffering from a\\ncondition called obesity.\\n1.4 D EFICIENCY  DISEASES\\nA person may be getting enough food toeat, but sometimes the food may not\\ncontain a particular nutrient. If thiscontinues over a long period of time, the\\nperson may suffer from its deficiency.\\nDeficiency of one or more nutrients can\\ncause diseases or disorders in our body.\\nDiseases that occur due to lack of\\nnutrients over a long period are calleddeficiency diseases .\\nIf a person does not get enough\\nproteins in his/her food for  a long time,he/she is likely to have stunted growth,\\nswelling of face, discolouration of hair,\\nskin diseases and diarrhoea.\\nIf the diet is deficient in both\\ncarbohydrates and proteins for a longperiod of time, the growth may stop\\ncompletely. Such a person becomes very\\nlean and thin and so weak that he/shemay not even be able to move.\\nDeficiency of different vitamins and\\nminerals may also result in certain\\ndiseases or disorders. Some of these are\\nmentioned in Table 1.3.\\nAll deficiency diseases can be\\nprevented by taking a balanced diet.\\nIn this chapter, we asked ourselves\\nthe reason why widely varying food fromdifferent regions had a common\\nRationalised 2023-24\\n', metadata={'source': 'Chapter 1.pmd.pdf', 'page': 7})]"
      ]
     },
     "execution_count": 32,
     "metadata": {},
     "output_type": "execute_result"
    }
   ],
   "source": [
    "from langchain_community.document_loaders import DirectoryLoader,TextLoader, UnstructuredURLLoader, PyPDFLoader\n",
    "\n",
    "# loader = DirectoryLoader('', glob=\"**/*.txt\",loader_cls=TextLoader)\n",
    "# urls = [\n",
    "#     \"https://www.alltius.ai/company/about\",\n",
    "# ]\n",
    "loader = PyPDFLoader(\"Chapter 1.pmd.pdf\")\n",
    "\n",
    "text_documents = loader.load()\n",
    "text_documents"
   ]
  },
  {
   "cell_type": "code",
   "execution_count": 22,
   "metadata": {},
   "outputs": [],
   "source": [
    "from langchain_community.document_loaders import PythonLoader\n",
    "loader  = PythonLoader('../test.py')\n",
    "text_documents = loader.load()"
   ]
  },
  {
   "cell_type": "code",
   "execution_count": 23,
   "metadata": {},
   "outputs": [],
   "source": [
    "# from langchain_community.document_loaders import WebBaseLoader\n",
    "# import bs4\n",
    "\n",
    "# loader = WebBaseLoader(web_paths=['https://eshtyle.com/terms-conditions','https://eshtyle.com/privacy-policy'],\n",
    "#                        bs_kwargs=dict(parse_only=bs4.SoupStrainer(\n",
    "# )))\n",
    "                    \n",
    "# loader.load()"
   ]
  },
  {
   "cell_type": "code",
   "execution_count": 24,
   "metadata": {},
   "outputs": [
    {
     "data": {
      "text/plain": [
       "[Document(page_content='import streamlit as st\\nimport os\\nfrom langchain_groq import ChatGroq\\nfrom langchain_fireworks import FireworksEmbeddings\\nfrom langchain.text_splitter import RecursiveCharacterTextSplitter\\nfrom langchain.chains.combine_documents import create_stuff_documents_chain\\nfrom langchain_core.prompts import ChatPromptTemplate\\nfrom langchain.chains import create_retrieval_chain\\nfrom langchain_community.vectorstores import FAISS\\nfrom langchain_community.document_loaders import  PyPDFLoader\\nfrom langchain_community.document_loaders import DirectoryLoader,TextLoader\\nfrom dotenv import load_dotenv\\n\\nload_dotenv()\\napi_key = os.environ.get(\"FIREWORKS_API_KEY\")\\n\\n## load the GROQ And OpenAI API KEY \\ngroq_api_key=os.getenv(\\'GROQ_API\\')\\n\\nst.title(\"Chat bot for ecom website eshtyle.com\")\\n\\nllm=ChatGroq(groq_api_key=groq_api_key,\\n             model_name=\"Llama3-8b-8192\")\\n\\nprompt=ChatPromptTemplate.from_template(\\n\"\"\"\\nAnswer the questions based on the provided context only.\\nPlease provide the most accurate response based on the question\\n<context>\\n{context}\\n<context>\\nQuestions:{input}\\n\\n\"\"\"\\n)\\n\\ndef vector_embedding():\\n\\n    if \"vectors\" not in st.session_state:\\n\\n        st.session_state.embeddings=FireworksEmbeddings(model=\"nomic-ai/nomic-embed-text-v1.5\")\\n        st.session_state.loader=DirectoryLoader(\\'data\\', glob=\"**/*.txt\",loader_cls=TextLoader) ## Data Ingestion\\n        st.session_state.docs=st.session_state.loader.load() ## Document Loading\\n        st.session_state.text_splitter=RecursiveCharacterTextSplitter(chunk_size=1000,chunk_overlap=200) ## Chunk Creation\\n        st.session_state.final_documents=st.session_state.text_splitter.split_documents(st.session_state.docs[:20]) #splitting\\n        st.session_state.vectors=FAISS.from_documents(st.session_state.final_documents,st.session_state.embeddings) #vector OpenAI embeddings\\n\\n\\n\\n\\n\\nprompt1=st.text_input(\"Enter Your Question From Doduments\")\\n\\n\\nif st.button(\"Documents Embedding\"):\\n    vector_embedding()\\n    st.write(\"Vector Store DB Is Ready\")\\n\\nimport time\\n\\n\\n\\nif prompt1:\\n    document_chain=create_stuff_documents_chain(llm,prompt)\\n    retriever=st.session_state.vectors.as_retriever()\\n    retrieval_chain=create_retrieval_chain(retriever,document_chain)\\n    start=time.process_time()\\n    response=retrieval_chain.invoke({\\'input\\':prompt1})\\n    print(\"Response time :\",time.process_time()-start)\\n    st.write(response[\\'answer\\'])\\n\\n    # With a streamlit expander\\n    with st.expander(\"Document Similarity Search\"):\\n        # Find the relevant chunks\\n        for i, doc in enumerate(response[\"context\"]):\\n            st.write(doc.page_content)\\n            st.write(\"--------------------------------\")\\n\\n\\n\\n\\n', metadata={'source': '../test.py'})]"
      ]
     },
     "execution_count": 24,
     "metadata": {},
     "output_type": "execute_result"
    }
   ],
   "source": [
    "text_documents"
   ]
  },
  {
   "cell_type": "code",
   "execution_count": 33,
   "metadata": {},
   "outputs": [
    {
     "data": {
      "text/plain": [
       "[Document(page_content='1 COMPONENTS  OF FOOD\\n1\\nIn lower classes, we made lists of the\\nfood items that we eat. We also\\nidentified food items eaten in\\ndifferent parts of India and marked\\nthese on its map.\\nA meal could consist of  chapati, dal\\nand brinjal curry. Another may be rice,sambar and a vegetable preparation of\\nlady’s finger  (bhindi). Yet another meal\\ncould be appam , fish curry and\\nvegetables.curd, butter milk and pickles. Some\\nexamples of meals from different regions\\nare given in Table 1.1. Select food itemsand enter these in Table 1.1.\\nSometimes, we may not really have\\nall this variety in our meals. If we aretravelling, we may eat whatever is\\navailable on the way. It may not be\\npossible for some of us, to eat such avariety of items, most of the time.\\nThere must be some reason though,\\nwhy meals usually consist of such adistribution. Do you think that our body\\nneeds different kinds of food for some\\nspecial purpose?\\n1.1 W HAT DO DIFFERENT  FOOD\\nITEMS CONTAIN ?', metadata={'source': 'Chapter 1.pmd.pdf', 'page': 0}),\n",
       " Document(page_content='We know that each dish is usually madeup of one or more ingredients, which\\nwe get from plants or animals. Theseingredients contain some components\\nthat are needed by our body. TheseComponents of Food\\nTable 1.1 Some common meals of different regions/states\\n/ n o i g e R\\ne t a t Sn i a r g f o m e t If o m e t I\\ndl a t a e m /s e l b a t e g e V r e h t Os\\nb a j n u P i k k a M ) n r o c ( i t o ra m j a R\\n) s n a e b y e n d i K (g a a s n o s r a S\\n) y r r u c f a e l d r a t s u M (, d r u C e e h g\\na r h d n A\\nh s e d a r Pe c i Rl a d r a u Td n a\\nm a s a r ( u r a h c)u r u d n u K( i a k a d n o d), k l i m r e t t u B e e h g,\\n( e l k c i p i a k a v a a)Activity 1\\nOur meals usually have at least one item\\nmade of some kind of grain. Other items\\ncould be a dal or a dish of meat andvegetables. It may also include items like\\nRationalised 2023-24', metadata={'source': 'Chapter 1.pmd.pdf', 'page': 0}),\n",
       " Document(page_content='2 SCIENCE\\nFig. 1.1  Testing for starchcomponents are called nutrients . The\\nmajor nutrients in our food are named\\ncarbohydrates, proteins, fats, vitamins\\nand minerals. In addition, food contains\\ndietary fibres and water which are also\\nneeded by our body.\\nDo all foods contain all these\\nnutrients? With some simple methodswe can test whether cooked food or a\\nraw ingredient contains one or more of\\nthese nutrients. The tests for presenceof carbohydrates, proteins and fats\\nare simpler to do as compared to the\\ntests for other nutrients. Let us do these\\ntests and record all our observations\\nin Table 1.2.\\nFor carrying out these tests, you will\\nneed solutions of iodine, coppersulphate and caustic soda. You will also\\nneed a few test tubes and a dropper.\\nTry these tests on cooked food items\\nas well as raw materials. Table 1.2 shows\\nyou a way to record the observationsfrom these tests. Some food items are\\ngiven in this table. You can conduct the\\ntests either with these or any other', metadata={'source': 'Chapter 1.pmd.pdf', 'page': 1}),\n",
       " Document(page_content='available food items. Do these tests\\ncarefully and do not try to eat or taste\\nany chemicals.\\nIf the required solutions are not\\navailable in readymade form, yourteacher can prepare them as given in\\nthe box.\\nLet us begin by testing different\\nfood items to see if they containcarbohydrates . There are many\\ntypes of carbohydrates. The main\\ncarbohydrates found in our food are in\\nthe form of starch and sugars. We can\\neasily test if a food item contains starch.Activity 2\\nTest for Starch\\nTake a small quantity of a food item or\\na raw ingredient. Put 2-3 drops of diluteiodine solution on it (Fig. 1.1). Observe\\nif there is any change in the colour of\\nthe food item. Did it turn blue-black?A blue-black colour indicates that it\\ncontains starch.e b n a c e n i d o i f o n o i t u l o s e t u l i d A\\nf o s p o r d w e f a g n i d d a y b d e r a p e r p\\nd e l l i f f l a h e b u t t s e t a o t e n i d o i e r u t c n i t\\n. r e t a w h t i w\\ne b n a c n o i t u l o s e t a h p l u s r e p p o C', metadata={'source': 'Chapter 1.pmd.pdf', 'page': 1}),\n",
       " Document(page_content='f o ) g ( m a r g 2 g n i v l o s s i d y b d e r a p e r p\\n) L m ( e r t i l i l l i m 0 0 1 n i e t a h p l u s r e p p o c\\n. r e t a w f o\\nn i d e v l o s s i d a d o s c i t s u a c f o g 0 1\\nd e r i u q e r e h t s e k a m r e t a w f o L m 0 0 1\\n. a d o s c i t s u a c f o n o i t u l o s\\nRationalised 2023-24', metadata={'source': 'Chapter 1.pmd.pdf', 'page': 1}),\n",
       " Document(page_content='3 COMPONENTS  OF FOOD\\nRepeat this test with other food items\\nto find out which of these contain starch.\\nEnter all your observations in Table 1.2.\\nTest for Protein\\nTake a small quantity of a food item fortesting. If the food you want to test is a\\nsolid, you first need to make a paste of\\nFig. 1.2 Testing for proteinTable  1.2 Nutrients present in some\\nfood items\\nm e t i d o o Fh c r a t S\\n) t n e s e r p (n i e t o r P\\n) t n e s e r p (t a F\\n) t n e s e r p (\\no t a t o p w a R s e Y\\nk l i M s e Y\\nt u n d n u o r G s e Y\\nd e k o o c n U\\nd e r e d w o p\\ne c i r\\ne c i r d e k o o C\\nt u n o c o c y r D\\nd e k o o c n U\\nr a u t l a d\\n) d e r e d w o p (\\nd e k o o C l a d\\ny n a f o e c i l s A\\ne l b a t e g e v\\ny n a f o e c i l s A\\nt i u r f\\ng g e d e l i o B\\ne t i h w (\\n) n o i t r o pit or powder it. Grind or mash asmall quantity of the food item.\\nPut some of this in a clean testtube, add 10 drops of water to it\\nand shake the test tube.\\nNow, using a dropper, add', metadata={'source': 'Chapter 1.pmd.pdf', 'page': 2}),\n",
       " Document(page_content='two drops of solution of coppersulphate and ten drops of\\nsolution of caustic soda to thetest tube (Fig. 1.2). Shake welland let the test tube stand for a fewminutes. What do you see? Did thecontents of the test tube turn violet? A\\nviolet colour indicates presence of\\nproteins in the food item.\\nNow, you can repeat this test on other\\nfood items.\\nRationalised 2023-24', metadata={'source': 'Chapter 1.pmd.pdf', 'page': 2}),\n",
       " Document(page_content='4 SCIENCE\\nand carbohydrates are also called\\n‘energy giving foods’ (Fig. 1.3 andFig. 1.4).\\nProteins are needed for the growth\\nand repair of our body. Foods proteinsTest for Fats\\nTake a small quantity of a food item.Wrap it in a piece of paper and crush it.\\nTake care that the paper does not tear.\\nNow, straighten the paper and observeit carefully. Does it have an oily patch?\\nHold the paper against light. Are you\\nable to see the light faintly, throughthis patch?\\nAn oily patch on paper shows that\\nthe food item contains fat. The food\\nitems may sometimes contain a little\\nwater. Therefore, after you have rubbedan item on paper, let the paper dry for awhile. If there were any water that mayhave come from food, it would dry upafter some time. If no oily patch shows\\nup after this, the food item does not\\ncontain any fat.\\nWhat do these tests show? Are fats,\\nproteins and starch present in all thefood items that you tested? Does a food\\nitem contain more than one nutrient?', metadata={'source': 'Chapter 1.pmd.pdf', 'page': 3}),\n",
       " Document(page_content='Do you find any food item that does notcontain any of these nutrients?\\nWe tested food items for three\\nnutrients — carbohydrates, proteinsand fats. There are also other nutrients\\nlike vitamins and minerals  that are\\npresent in different food items. Why do\\nwe need all these nutrients?\\n1.2 W HAT DO VARIOUS  NUTRIENTS  DO\\nFOR OUR BODY?\\nCarbohydrates mainly provide energyto our body. Fats also give us energy.\\nIn fact, fats give much more energy\\nas compared to the same amount ofcarbohydrates. Foods containing fatsFig. 1.3  Some sources of carbohydrates\\nFig. 1.4 Some sources of fats: (a) plant sources\\nand (b) animal sources(a)\\n(b)Sugarcane Sweet potato\\nWheat\\nRice\\nBajraMelon\\nMangoPotato\\nMaizePapaya\\nGroundnutsNuts\\nTil\\nMeat\\nFishEggs\\nRationalised 2023-24', metadata={'source': 'Chapter 1.pmd.pdf', 'page': 3}),\n",
       " Document(page_content='5 COMPONENTS  OF FOOD\\nare often called ‘body building foods’\\n(Fig 1.5).\\nVitamins help in protecting our body\\nagainst diseases. Vitamins also help inkeeping our eyes, bones, teeth and gums\\nhealthy.\\nVitamins are of different kinds\\nknown by different names. Some of these\\nare Vitamin A, Vitamin C, Vitamin D,Vitamin E and K. There is also a group\\nof vitamins called Vitamin B-complex.\\nOur body needs all types of vitamins insmall quantities. Vitamin A keeps ourskin and eyes healthy. Vitamin C helpsbody to fight against many diseases.\\nVitamin D helps our body to use\\ncalcium for bones and teeth. Foods thatare rich in different vitamins are shown\\nin Fig. 1.6 to Fig. 1.9.\\nMinerals are needed by our body in\\nsmall amounts. Each one is essential\\nFig. 1.5 Some sources of proteins: (a) plant\\nsources and (b) animal sourcesMeat\\nEggsFishPeasGram Moong Tuar dal\\nBeans\\nSoyabeans\\n(a)\\n(b)PaneerFig. 1.6  Some sources of Vitamin A\\nLiver\\nGuava\\nLemon\\nAmlaFig. 1.7  Some sources of Vitamin B', metadata={'source': 'Chapter 1.pmd.pdf', 'page': 4}),\n",
       " Document(page_content='Fig. 1.8  Some sources of Vitamin C\\nFig. 1.9 Some sources of Vitamin DTomatoOrangePapaya\\nCarrot\\nMango\\nWheatRice\\nGreen\\nChilli\\nFish\\nEggLiver\\nRationalised 2023-24', metadata={'source': 'Chapter 1.pmd.pdf', 'page': 4}),\n",
       " Document(page_content='6 SCIENCE\\nfor proper growth of body and to\\nmaintain good health. Some sources of\\ndifferent minerals are shown in Fig. 1.10.\\nMost food items, usually, have more\\nthan one nutrient. You may have noticedthis, while recording your observationsin Table 1.2. However, in a given raw\\nmaterial, one particular nutrient may\\nbe present in much larger quantity thanin others. For example, rice has more\\ncarbohydrates than other nutrients.\\nThus, we say that rice is a “carbohydraterich” source of food.\\nBesides these nutrients, our body\\nneeds dietary fibres  and water. Dietary\\nfibres are also known as roughage.\\nRoughage is mainly provided by plant\\nproducts in our foods. Whole grains andpulses, potatoes, fresh fruits and\\nvegetables are main sources of roughage.\\nRoughage does not provide any nutrientto our body, but is an essential\\ncomponent of our food and adds to its\\nbulk. This helps our body get rid of\\nundigested food.Our body also\\nprepares Vitamin D in the\\npresence of sunlight. Nowadays,', metadata={'source': 'Chapter 1.pmd.pdf', 'page': 5}),\n",
       " Document(page_content='insufficient exposure to sunlight is\\ncausing Vitamin D deficiency in\\nmany people.\\nFig. 1.10  Sources of some mineralsSome sources\\nof calciumSome sources\\nof ironSome sources of\\nphosphorousSome sources ofiodine\\nGinger\\nRationalised 2023-24', metadata={'source': 'Chapter 1.pmd.pdf', 'page': 5}),\n",
       " Document(page_content='7 COMPONENTS  OF FOOD\\nthink that, what we need for a balanced\\ndiet would depend on the amount ofphysical work that we do?\\nPrepare a chart of whatever you eat\\nover a period of a week. Check whetherall the nutrients mentioned are present\\nin one or the other food items being\\neaten within a day or so.\\nPulses, groundnut, soyabean,\\nsprouted seeds ( moong  and Bengal\\ngram), fermented foods (South Indianfoods such as idlis), a combination of\\nflours ( missi roti , thepla  made from\\ncereals and pulses), banana, spinach,sattu , jaggery, available vegetables and\\nother such foods provide manynutrients. Therefore, one can eat abalanced diet without expensive food\\nmaterials.\\nEating the right kind of food is not\\nenough. It should also be cookedWater helps our body to absorb\\nnutrients from food. It also helps in\\nthrowing out some wastes from body as\\nurine and sweat. Normally, we get most\\nof the water that our body needs fromthe liquids we drink — such as water,\\nmilk and tea. In addition, we add water', metadata={'source': 'Chapter 1.pmd.pdf', 'page': 6}),\n",
       " Document(page_content='to most cooked foods. Let’s see if thereis any other source which provides water\\nto our body.\\nActivity 3\\nTake a tomato or a fruit like lemon. Cut\\nit into small pieces. Do your hands getwet while doing so?\\nCarefully observe whenever\\nvegetables and fruits are being cut,peeled, grated or mashed at your\\nhome. Do you find any fresh vegetables\\nor fruits that do not contain someamount of water?\\nWe see that many food materials\\nthemselves contain water. To some\\nextent, our body needs are met by thiswater. Apart from this, we also add waterwhile cooking many food items.\\n1.3 B ALANCED  DIET\\nThe food we normally eat in a day is our\\ndiet. For growth and maintenance ofgood health, our diet should have all\\nthe nutrients that our body needs, in\\nright quantities. Not too much of oneand not too little of the other.  The diet\\nshould also contain a good amount of\\nroughage and water. Such a diet is calleda balanced diet .\\nDo you think that people of all ages', metadata={'source': 'Chapter 1.pmd.pdf', 'page': 6}),\n",
       " Document(page_content='need the same type of diet? Do you alsoPaheli wonders whether animal\\nfood also consists of thesedifferent components and dothey also need a balanced diet?\\nproperly so that its nutrients are not\\nlost. Are you aware that some nutrientsget lost in the process of cooking and\\npreparations?\\nIf the vegetables and fruits are\\nwashed after cutting or peeling them, it\\nRationalised 2023-24', metadata={'source': 'Chapter 1.pmd.pdf', 'page': 6}),\n",
       " Document(page_content='8 SCIENCE\\nmay result in the loss of some vitamins.\\nThe skins of many vegetables and fruitscontain vitamins and minerals.\\nSimilarly, repeated washing of rice and\\npulses may remove some vitamins andminerals present in them.\\nWe all know that cooking improves\\nthe taste of food and makes it easier todigest. At the same time, cooking also\\nresults in the loss of certain nutrients.\\nMany useful proteins and considerableamounts of minerals are lost if excess\\nwater is used during cooking and is\\nthen thrown away.\\nVitamin C gets easily destroyed by\\nheat during cooking. Would it not besensible to include some fruits and rawvegetables in our diet?\\nBoojho thought that fats would be\\nthe best foods to eat, all the time. A katori\\n(bowl) of fat will give much more energy\\nthan a katori of carbohydrate rich food,\\nisn’t it? So, he ate nothing but food richin fats — fried food like samosa  and poori\\n(snacks), malai,  rabdi  and peda (sweets).\\nDo you think he was right? No, of', metadata={'source': 'Chapter 1.pmd.pdf', 'page': 7}),\n",
       " Document(page_content='course not! It can be very harmful for\\nus to eat too much of fat rich foods andwe may end up suffering from a\\ncondition called obesity.\\n1.4 D EFICIENCY  DISEASES\\nA person may be getting enough food toeat, but sometimes the food may not\\ncontain a particular nutrient. If thiscontinues over a long period of time, the\\nperson may suffer from its deficiency.\\nDeficiency of one or more nutrients can\\ncause diseases or disorders in our body.\\nDiseases that occur due to lack of\\nnutrients over a long period are calleddeficiency diseases .\\nIf a person does not get enough\\nproteins in his/her food for  a long time,he/she is likely to have stunted growth,\\nswelling of face, discolouration of hair,\\nskin diseases and diarrhoea.\\nIf the diet is deficient in both\\ncarbohydrates and proteins for a longperiod of time, the growth may stop\\ncompletely. Such a person becomes very\\nlean and thin and so weak that he/shemay not even be able to move.\\nDeficiency of different vitamins and', metadata={'source': 'Chapter 1.pmd.pdf', 'page': 7}),\n",
       " Document(page_content='minerals may also result in certain\\ndiseases or disorders. Some of these are\\nmentioned in Table 1.3.\\nAll deficiency diseases can be\\nprevented by taking a balanced diet.\\nIn this chapter, we asked ourselves\\nthe reason why widely varying food fromdifferent regions had a common\\nRationalised 2023-24', metadata={'source': 'Chapter 1.pmd.pdf', 'page': 7})]"
      ]
     },
     "execution_count": 33,
     "metadata": {},
     "output_type": "execute_result"
    }
   ],
   "source": [
    "from langchain.text_splitter import RecursiveCharacterTextSplitter\n",
    "text_splitter = RecursiveCharacterTextSplitter(chunk_size=1000,chunk_overlap=10)\n",
    "document = text_splitter.split_documents(text_documents)\n",
    "document"
   ]
  },
  {
   "cell_type": "code",
   "execution_count": 26,
   "metadata": {},
   "outputs": [],
   "source": [
    "# from langchain.embeddings import HuggingFaceInstructEmbeddings\n",
    "# instructor_embeddings = HuggingFaceInstructEmbeddings(model_name=\"hkunlp/instructor-xl\", \n",
    "#                                                       model_kwargs={\"device\": \"cpu\"})"
   ]
  },
  {
   "cell_type": "code",
   "execution_count": 27,
   "metadata": {},
   "outputs": [],
   "source": [
    "# from langchain_community.embeddings import HuggingFaceBgeEmbeddings\n",
    "\n",
    "\n",
    "# embeddings = embeddings(\n",
    "#     query_instruction=\"Represent the query for retrieval: \"\n",
    "# )"
   ]
  },
  {
   "cell_type": "code",
   "execution_count": 34,
   "metadata": {},
   "outputs": [],
   "source": [
    "from dotenv import load_dotenv\n",
    "import os\n",
    "load_dotenv()\n",
    "api_key = os.environ.get(\"FIREWORKS_API_KEY\")"
   ]
  },
  {
   "cell_type": "code",
   "execution_count": 35,
   "metadata": {},
   "outputs": [],
   "source": [
    "from langchain_fireworks import FireworksEmbeddings\n",
    "\n",
    "instructor_embeddings = FireworksEmbeddings(model=\"nomic-ai/nomic-embed-text-v1.5\")"
   ]
  },
  {
   "cell_type": "code",
   "execution_count": 36,
   "metadata": {},
   "outputs": [],
   "source": [
    "from langchain_community.vectorstores import Chroma\n",
    "vectorstore  = Chroma.from_documents(document,instructor_embeddings)"
   ]
  },
  {
   "cell_type": "code",
   "execution_count": null,
   "metadata": {},
   "outputs": [],
   "source": []
  },
  {
   "cell_type": "code",
   "execution_count": 37,
   "metadata": {},
   "outputs": [],
   "source": [
    "## FAISS Vector Database\n",
    "from langchain_community.vectorstores import FAISS\n",
    "db = FAISS.from_documents(document, instructor_embeddings)"
   ]
  },
  {
   "cell_type": "code",
   "execution_count": 38,
   "metadata": {},
   "outputs": [],
   "source": [
    "retriever=db.as_retriever(search_type=\"similarity\",search_kwargs={\"k\":3})\n"
   ]
  },
  {
   "cell_type": "code",
   "execution_count": 39,
   "metadata": {},
   "outputs": [],
   "source": [
    "import os"
   ]
  },
  {
   "cell_type": "code",
   "execution_count": 40,
   "metadata": {},
   "outputs": [],
   "source": [
    "groq_api_key=os.getenv('GROQ_API')\n"
   ]
  },
  {
   "cell_type": "code",
   "execution_count": 41,
   "metadata": {},
   "outputs": [],
   "source": [
    "from langchain_groq import ChatGroq\n",
    "\n",
    "llm=ChatGroq(groq_api_key=groq_api_key,\n",
    "             model_name=\"Llama3-8b-8192\")"
   ]
  },
  {
   "cell_type": "code",
   "execution_count": 42,
   "metadata": {},
   "outputs": [],
   "source": [
    "# # Load model directly\n",
    "# from transformers import AutoTokenizer, AutoModelForCausalLM\n",
    "\n",
    "# tokenizer = AutoTokenizer.from_pretrained(\"microsoft/Phi-3-mini-4k-instruct\", trust_remote_code=True)\n",
    "# model = AutoModelForCausalLM.from_pretrained(\"microsoft/Phi-3-mini-4k-instruct\", trust_remote_code=True)"
   ]
  },
  {
   "cell_type": "code",
   "execution_count": 44,
   "metadata": {},
   "outputs": [],
   "source": [
    "from langchain.chains import (\n",
    "     ConversationalRetrievalChain\n",
    ")\n"
   ]
  },
  {
   "cell_type": "code",
   "execution_count": 45,
   "metadata": {},
   "outputs": [],
   "source": [
    "from langchain.chains.combine_documents import create_stuff_documents_chain\n",
    "from langchain.chains import create_retrieval_chain\n"
   ]
  },
  {
   "cell_type": "code",
   "execution_count": 46,
   "metadata": {},
   "outputs": [],
   "source": [
    "from langchain_core.prompts import ChatPromptTemplate\n",
    "\n",
    "prompt=ChatPromptTemplate.from_template(\n",
    "\"\"\"\n",
    "Answer the questions using provided content and use general knowledge when necessary.\n",
    "Please provide the most accurate response based on the question\n",
    "<context>\n",
    "{context}\n",
    "<context>\n",
    "Questions:{input}\n",
    "\n",
    "\"\"\"\n",
    ")"
   ]
  },
  {
   "cell_type": "code",
   "execution_count": 48,
   "metadata": {},
   "outputs": [],
   "source": [
    "document_chain=create_stuff_documents_chain(llm,prompt)\n",
    "retrieval_chain=create_retrieval_chain(retriever,document_chain)"
   ]
  },
  {
   "cell_type": "code",
   "execution_count": 55,
   "metadata": {},
   "outputs": [],
   "source": [
    "response=retrieval_chain.invoke({'input':\"can you tell me fill in the blanks (a) question from pdf\"})"
   ]
  },
  {
   "cell_type": "code",
   "execution_count": 56,
   "metadata": {},
   "outputs": [
    {
     "data": {
      "text/plain": [
       "'Here are the answers to the fill-in-the-blanks:\\n\\n(a) Carbohydrates are also called \"energy giving foods\".\\n\\nNote: The provided context is a chapter on nutrition and food testing, and the questions are related to the content.'"
      ]
     },
     "execution_count": 56,
     "metadata": {},
     "output_type": "execute_result"
    }
   ],
   "source": [
    "response['answer']"
   ]
  },
  {
   "cell_type": "code",
   "execution_count": null,
   "metadata": {},
   "outputs": [],
   "source": []
  },
  {
   "cell_type": "code",
   "execution_count": null,
   "metadata": {},
   "outputs": [],
   "source": []
  },
  {
   "cell_type": "code",
   "execution_count": null,
   "metadata": {},
   "outputs": [],
   "source": []
  },
  {
   "cell_type": "code",
   "execution_count": null,
   "metadata": {},
   "outputs": [],
   "source": []
  },
  {
   "cell_type": "code",
   "execution_count": 1,
   "metadata": {},
   "outputs": [],
   "source": [
    "from langchain.chains import LLMChain\n",
    "from langchain.memory import ConversationBufferMemory\n",
    "from langchain_core.prompts import PromptTemplate\n",
    "from langchain_openai import OpenAI"
   ]
  },
  {
   "cell_type": "code",
   "execution_count": 2,
   "metadata": {},
   "outputs": [],
   "source": [
    "template = \"\"\"You are a chatbot having a conversation with a human.\n",
    "\n",
    "{chat_history}\n",
    "Human: {human_input}\n",
    "Chatbot:\"\"\"\n",
    "\n",
    "prompt = PromptTemplate(\n",
    "    input_variables=[\"chat_history\", \"human_input\"], template=template\n",
    ")\n",
    "memory = ConversationBufferMemory(memory_key=\"chat_history\")"
   ]
  },
  {
   "cell_type": "code",
   "execution_count": 8,
   "metadata": {},
   "outputs": [
    {
     "name": "stderr",
     "output_type": "stream",
     "text": [
      "c:\\Users\\91908\\AppData\\Local\\Programs\\Python\\Python311\\Lib\\site-packages\\langchain_core\\_api\\deprecation.py:119: LangChainDeprecationWarning: The class `LLMChain` was deprecated in LangChain 0.1.17 and will be removed in 0.3.0. Use RunnableSequence, e.g., `prompt | llm` instead.\n",
      "  warn_deprecated(\n"
     ]
    }
   ],
   "source": [
    "llm_chain = LLMChain(\n",
    "    llm=llm,\n",
    "    prompt=prompt,\n",
    "    verbose=True,\n",
    "    memory=memory,\n",
    ")"
   ]
  },
  {
   "cell_type": "code",
   "execution_count": 9,
   "metadata": {},
   "outputs": [
    {
     "name": "stdout",
     "output_type": "stream",
     "text": [
      "\n",
      "\n",
      "\u001b[1m> Entering new LLMChain chain...\u001b[0m\n",
      "Prompt after formatting:\n",
      "\u001b[32;1m\u001b[1;3mYou are a chatbot having a conversation with a human.\n",
      "\n",
      "\n",
      "Human: Hi there my name is hrithik\n",
      "Chatbot:\u001b[0m\n",
      "\n",
      "\u001b[1m> Finished chain.\u001b[0m\n"
     ]
    },
    {
     "data": {
      "text/plain": [
       "\"Nice to meet you, Hrithik! It's great to have a conversation with you. How's your day going so far?\""
      ]
     },
     "execution_count": 9,
     "metadata": {},
     "output_type": "execute_result"
    }
   ],
   "source": [
    "llm_chain.predict(human_input=\"Hi there my name is hrithik\")\n",
    "\n"
   ]
  },
  {
   "cell_type": "code",
   "execution_count": 10,
   "metadata": {},
   "outputs": [
    {
     "name": "stdout",
     "output_type": "stream",
     "text": [
      "\n",
      "\n",
      "\u001b[1m> Entering new LLMChain chain...\u001b[0m\n",
      "Prompt after formatting:\n",
      "\u001b[32;1m\u001b[1;3mYou are a chatbot having a conversation with a human.\n",
      "\n",
      "Human: Hi there my name is hrithik\n",
      "AI: Nice to meet you, Hrithik! It's great to have a conversation with you. How's your day going so far?\n",
      "Human: do you my name\n",
      "Chatbot:\u001b[0m\n",
      "\n",
      "\u001b[1m> Finished chain.\u001b[0m\n"
     ]
    },
    {
     "data": {
      "text/plain": [
       "'Nice and easy! Yes, I remember, your name is Hrithik.'"
      ]
     },
     "execution_count": 10,
     "metadata": {},
     "output_type": "execute_result"
    }
   ],
   "source": [
    "llm_chain.predict(human_input=\"do you my name\")\n",
    "\n"
   ]
  },
  {
   "cell_type": "code",
   "execution_count": null,
   "metadata": {},
   "outputs": [],
   "source": []
  }
 ],
 "metadata": {
  "kernelspec": {
   "display_name": "Python 3",
   "language": "python",
   "name": "python3"
  },
  "language_info": {
   "codemirror_mode": {
    "name": "ipython",
    "version": 3
   },
   "file_extension": ".py",
   "mimetype": "text/x-python",
   "name": "python",
   "nbconvert_exporter": "python",
   "pygments_lexer": "ipython3",
   "version": "3.11.4"
  }
 },
 "nbformat": 4,
 "nbformat_minor": 2
}
